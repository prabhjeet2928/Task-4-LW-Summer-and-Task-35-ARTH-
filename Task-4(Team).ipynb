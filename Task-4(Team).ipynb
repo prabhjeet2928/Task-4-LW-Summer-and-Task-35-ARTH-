{
 "cells": [
  {
   "cell_type": "markdown",
   "id": "b03da7c8",
   "metadata": {},
   "source": [
    "# Task 4.1\n",
    "### Create image by yourself Using Python Code "
   ]
  },
  {
   "cell_type": "code",
   "execution_count": 1,
   "id": "8ccf6ee7",
   "metadata": {},
   "outputs": [],
   "source": [
    "import cv2\n",
    "import numpy as np\n",
    "path = np.zeros((500,500,3))*250\n",
    "# Window name in which image is displayed\n",
    "window_name = 'Image'\n",
    "  \n",
    "# Center coordinates\n",
    "center_coordinates = (250, 250)\n",
    "center_coordinates1 = (230, 220)\n",
    "center_coordinates2 = (270, 220)\n",
    "\n",
    "# Radius of circle\n",
    "radius = 75\n",
    "radius1 = 5\n",
    "\n",
    "  \n",
    "# Blue color in BGR\n",
    "color = (234, 0, 0)\n",
    "font = cv2.FONT_ITALIC\n",
    "  \n",
    "# Line thickness of 2 px\n",
    "thickness = 3\n",
    "\n",
    "# Using cv2.circle() method\n",
    "# Draw a circle with blue line borders of thickness of 2 px\n",
    "image = cv2.circle(path,center_coordinates , radius, (256,0,0), thickness)\n",
    "image1 = cv2.circle(path, center_coordinates1, radius1, color, thickness) \n",
    "image2 = cv2.circle(path, center_coordinates2, radius1, color, thickness)\n",
    "cv2.putText(path,('HAPPY'),(158,128), font,2,(255,0,255),3,cv2.LINE_8)\n",
    "\n",
    "\n",
    "# Displaying the image\n",
    "for i in range(30):\n",
    "    if cv2.waitKey(100) == 13:\n",
    "        break\n",
    "    else:\n",
    "        for j in range(20):\n",
    "            image3 = cv2.ellipse(path,(250,265),(i,j),0,0,180,255,2)\n",
    "    cv2.imshow(window_name, path)\n",
    "cv2.waitKey()          \n",
    "cv2.destroyAllWindows()"
   ]
  },
  {
   "cell_type": "markdown",
   "id": "b0c5ad36",
   "metadata": {},
   "source": [
    "# Task 4.2\n",
    "### Take 2 image crop some part of both image and swap it. "
   ]
  },
  {
   "cell_type": "code",
   "execution_count": 2,
   "id": "49d6cbf5",
   "metadata": {},
   "outputs": [],
   "source": [
    "import cv2\n",
    "humans = cv2.imread(\"humans.png\")\n",
    "cv2.imshow(\"two persons\",humans)\n",
    "cv2.waitKey()\n",
    "cv2.destroyAllWindows()\n",
    "one_human = cv2.imread(\"one_human.png\")\n",
    "cv2.imshow(\"one person\",one_human)\n",
    "cv2.waitKey()\n",
    "cv2.destroyAllWindows()\n",
    "humans_crop=humans[10:675,5:450]\n",
    "cv2.imwrite(\"humans_crop.jpeg\",humans_crop)\n",
    "one_human_crop=one_human[10:675,5:450]\n",
    "cv2.imwrite(\"one_human_crop.jpeg\",one_human_crop)\n",
    "humans_crop = cv2.imread(\"humans_crop.jpeg\")\n",
    "one_human[10:675,5:450]=humans_crop\n",
    "cv2.imshow(\"Swap One Human\",one_human)\n",
    "cv2.waitKey()\n",
    "cv2.destroyAllWindows()\n",
    "one_human_crop = cv2.imread(\"one_human_crop.jpeg\")\n",
    "humans[10:675,5:450]=one_human_crop\n",
    "cv2.imshow(\"Swap Two Humans\",humans)\n",
    "cv2.waitKey()\n",
    "cv2.destroyAllWindows()"
   ]
  },
  {
   "cell_type": "markdown",
   "id": "b88b0728",
   "metadata": {},
   "source": [
    "# Task 4.3\n",
    "### Take 2 image and combine it to form single image. For example collage "
   ]
  },
  {
   "cell_type": "code",
   "execution_count": 3,
   "id": "430135bc",
   "metadata": {},
   "outputs": [],
   "source": [
    "import numpy as np\n",
    "import cv2 as cv\n",
    "eyes_nose = cv2.imread('eyes_nose.jpg', cv2.IMREAD_COLOR)\n",
    "mouth = cv2.imread('mouth.png', cv2.IMREAD_COLOR)\n",
    "cv2.imshow(\"eyes_nose\",eyes_nose)\n",
    "cv2.waitKey(0)\n",
    "cv2.destroyAllWindows()\n",
    "cv2.imshow(\"mouth\",mouth)\n",
    "cv2.waitKey(0)\n",
    "cv2.destroyAllWindows()\n",
    "dim = (500, 300) \n",
    "resized_eyes_nose = cv2.resize(eyes_nose, dim, interpolation = cv2.INTER_AREA)\n",
    "resized_mouth = cv2.resize(mouth, dim, interpolation = cv2.INTER_AREA)\n",
    "m=np.vstack([resized_eyes_nose,resized_mouth])\n",
    "cv2.imshow(\"Final Collage\",m)\n",
    "cv2.waitKey(0)\n",
    "cv2.destroyAllWindows()"
   ]
  },
  {
   "cell_type": "code",
   "execution_count": null,
   "id": "850ddc5e",
   "metadata": {},
   "outputs": [],
   "source": []
  }
 ],
 "metadata": {
  "kernelspec": {
   "display_name": "Python 3",
   "language": "python",
   "name": "python3"
  },
  "language_info": {
   "codemirror_mode": {
    "name": "ipython",
    "version": 3
   },
   "file_extension": ".py",
   "mimetype": "text/x-python",
   "name": "python",
   "nbconvert_exporter": "python",
   "pygments_lexer": "ipython3",
   "version": "3.8.8"
  }
 },
 "nbformat": 4,
 "nbformat_minor": 5
}
